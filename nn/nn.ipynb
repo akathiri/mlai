{
 "cells": [
  {
   "cell_type": "code",
   "execution_count": 1,
   "metadata": {
    "collapsed": true
   },
   "outputs": [],
   "source": [
    "# a simple neural network implementation\n",
    "\n",
    "import numpy as np\n",
    "from scipy import optimize\n",
    "import matplotlib.pyplot as plt\n",
    "%matplotlib inline"
   ]
  },
  {
   "cell_type": "code",
   "execution_count": 2,
   "metadata": {
    "collapsed": true
   },
   "outputs": [],
   "source": [
    "class NeuralNetwork(object):\n",
    "    \n",
    "    def __init__(self):\n",
    "        self.inputLayerSize = 2\n",
    "        self.hiddenLayerSize = 3\n",
    "        self.outputLayerSize = 1\n",
    "        \n",
    "        # bit different than standard convention\n",
    "        self.w1 = np.random.randn(self.inputLayerSize, self.hiddenLayerSize) # weight vector going from input layer to hidden layer\n",
    "        self.w2 = np.random.randn(self.hiddenLayerSize, self.outputLayerSize) # weight vector going from hidden layer to output layer\n",
    "    \n",
    "    def sigmoid(self, z):\n",
    "        \"\"\"\n",
    "        Sigmoid activation function σ --> 1/(1+exp(-z))\n",
    "        :param z: input vector\n",
    "        :return: sigmoid activation vector\n",
    "        \"\"\"\n",
    "        return 1.0/(1+np.exp(-z))\n",
    "    \n",
    "    def sigmoid_prime(self, z):\n",
    "        \"\"\"\n",
    "        Derivative of sigmoid σ' --> σ * (1 - σ)\n",
    "        https://math.stackexchange.com/questions/78575/derivative-of-sigmoid-function-sigma-x-frac11e-x\n",
    "        :param z: input vector\n",
    "        :return: derivative vector of sigmoid\n",
    "        \"\"\"\n",
    "        return self.sigmoid(z) * (1 - self.sigmoid(z))\n",
    "    \n",
    "    def forward(self, X):\n",
    "        \"\"\"\n",
    "        Forward propogation of input X\n",
    "        :param X: input vector of size (number of examples x number of features)\n",
    "        :return: vector of predicted output\n",
    "        \"\"\"\n",
    "        self.z2 = np.dot(X, self.w1)\n",
    "        self.a2 = self.sigmoid(self.z2)\n",
    "        self.z3 = np.dot(self.a2, self.w2)\n",
    "        return self.sigmoid(self.z3) # predicted output\n",
    "    \n",
    "    def cost_function(self, X, y):\n",
    "        \"\"\"\n",
    "        Quadratic cost/loss function - MSE\n",
    "        :param X: input feature vector\n",
    "        :param y: true output vector\n",
    "        :return: cost vector\n",
    "        \"\"\"\n",
    "        self.a3 = self.forward(X)\n",
    "        J = (sum((y-self.a3)**2))/2\n",
    "        return J\n",
    "    \n",
    "    def cost_function_prime(self, X, y):\n",
    "        \"\"\"\n",
    "        Compute derivative of cost function w.r.t. hyperparameters/weights\n",
    "        :param X: input feature vector\n",
    "        :param y: true output vector\n",
    "        :return: derivative vector\n",
    "        \"\"\"\n",
    "        self.a3 = self.forward(X)\n",
    "        \n",
    "        # 𝛿3 -> ∂J/∂a3 * ∂a3/∂z3\n",
    "        delta3 = -(y-self.a3) * self.sigmoid_prime(self.z3)\n",
    "        # ∂J/∂W3 -> a2.𝛿3 \n",
    "        dJdw2 = np.dot(self.a2.T, delta3)\n",
    "        \n",
    "        delta2 = np.dot(delta3, self.w2.T) * self.sigmoid_prime(self.z2)\n",
    "        dJdw1 = np.dot(X.T, delta2)\n",
    "        \n",
    "        return dJdw1, dJdw2\n",
    "    \n",
    "    def get_params(self):\n",
    "        \"\"\"\n",
    "        Helper function for scipy optimizer.\n",
    "        Concatenate all the parameters into a single vector\n",
    "        \"\"\"\n",
    "        return np.concatenate((self.w1.ravel(), self.w2.ravel()))\n",
    "    \n",
    "    def set_params(self, params):\n",
    "        \"\"\"\n",
    "        Helper function for scipy optimizer.\n",
    "        Un-concatenate and set parameters\n",
    "        \"\"\"\n",
    "        start = 0\n",
    "        w1_end = self.inputLayerSize * self.hiddenLayerSize\n",
    "        self.w1 = np.reshape(params[0:w1_end], (self.inputLayerSize, self.hiddenLayerSize))\n",
    "        w2_end = w1_end + self.hiddenLayerSize*self.outputLayerSize\n",
    "        self.w2 = np.reshape(params[w1_end:w2_end], (self.hiddenLayerSize, self.outputLayerSize))\n",
    "    \n",
    "    def compute_gradients(self, X, y):\n",
    "        \"\"\"\n",
    "        Gradients for scipy optimizer\n",
    "        \"\"\"\n",
    "        dJdw1, dJdw2 = self.cost_function_prime(X, y)\n",
    "        return np.concatenate((dJdw1.ravel(), dJdw2.ravel()))"
   ]
  },
  {
   "cell_type": "code",
   "execution_count": 3,
   "metadata": {
    "collapsed": false
   },
   "outputs": [
    {
     "name": "stdout",
     "output_type": "stream",
     "text": [
      "Initial cost:  [ 0.05853627]\n",
      "[ 0.04410129]\n",
      "[ 0.03422622]\n",
      "[ 0.0273355]\n",
      "[ 0.02243495]\n",
      "[ 0.0188866]\n",
      "[ 0.01627366]\n",
      "[ 0.01431883]\n",
      "[ 0.01283439]\n",
      "[ 0.01169105]\n",
      "[ 0.01079838]\n"
     ]
    }
   ],
   "source": [
    "X = np.array(([3,5],[5,1],[10,2]), dtype=float) # (hours sleeping, hours studying)\n",
    "y = np.array(([75],[82],[93]), dtype=float) # score on a test\n",
    "\n",
    "# normalize\n",
    "X = X/np.amax(X, axis=0)\n",
    "y = y/100\n",
    "\n",
    "nn = NeuralNetwork()\n",
    "\n",
    "cost0 = nn.cost_function(X, y)\n",
    "print('Initial cost: ', cost0)\n",
    "\n",
    "for i in range(10):\n",
    "    dJdw1, dJdw2 = nn.cost_function_prime(X, y)\n",
    "    nn.w1 = nn.w1 - 2.0*dJdw1\n",
    "    nn.w2 = nn.w2 - 2.0*dJdw2\n",
    "    print(nn.cost_function(X,y))"
   ]
  },
  {
   "cell_type": "code",
   "execution_count": 4,
   "metadata": {
    "collapsed": false
   },
   "outputs": [],
   "source": [
    "class Optimizer(object):\n",
    "    \n",
    "    def __init__(self, NN):\n",
    "        \"\"\"\n",
    "        Takes NeuralNetwork object on which to optimize\n",
    "        \"\"\"\n",
    "        self.NN = NN\n",
    "    \n",
    "    def backprop(self, X, y, eta=2, epochs=100, disp=False, plot=True):\n",
    "        \"\"\"\n",
    "        Given X,y train the network using using backprop\n",
    "        :param X: input feature vector\n",
    "        :param y: true output vector\n",
    "        :param eta: learning rate\n",
    "        :param epochs: number of iterations\n",
    "        :param display: if true print the cost/epoch\n",
    "        :param plot: plot cost w.r.t. iteration\n",
    "        \"\"\"\n",
    "        self.costs = []\n",
    "        for i in range(1, epochs+1):\n",
    "            dJdw1, dJdw2 = self.NN.cost_function_prime(X, y)\n",
    "            self.NN.w1 -= eta * dJdw1\n",
    "            self.NN.w2 -= eta * dJdw2\n",
    "            J = self.NN.cost_function(X, y)\n",
    "            self.costs.append(J)\n",
    "            if display and i%5 == 0: \n",
    "                print('Epoch {i}/{epochs} ===========> cost: {J}'.format(i=i, epochs=epochs, J=J))\n",
    "        if plot:\n",
    "            plt.plot(opt.costs)\n",
    "            plt.grid(1)\n",
    "            plt.xlabel('Iterations')\n",
    "            plt.ylabel('Cost')\n",
    "    \n",
    "    # using scipy optimizer (BFGS)\n",
    "    def callback_func(self, params):\n",
    "        self.NN.set_params(params)\n",
    "        self.J.append(self.NN.cost_function(self.X, self.y))\n",
    "    \n",
    "    def cost_function_wrapper(self, params, X, y):\n",
    "        self.NN.set_params(params)\n",
    "        cost = self.NN.cost_function(X, y)\n",
    "        grad = self.NN.compute_gradients(X, y)\n",
    "        return cost, grad\n",
    "    \n",
    "    def BFGS(self, X, y, epochs=100, disp=False, plot=True):\n",
    "        \"\"\"\n",
    "        Given X, y train the network using BFGS optimization method\n",
    "        \"\"\"\n",
    "        self.X = X\n",
    "        self.y = y\n",
    "        self.J = []\n",
    "        \n",
    "        initial_params = self.NN.get_params()\n",
    "        \n",
    "        options = {'maxiter': epochs, 'disp': disp}\n",
    "        _res = optimize.minimize(self.cost_function_wrapper, initial_params, jac=True, method='BFGS', args=(X, y), options=options, callback=self.callback_func)\n",
    "        self.NN.set_params(_res.x)\n",
    "        self.optimizationResults = _res\n",
    "        if plot:\n",
    "            plt.plot(self.J)\n",
    "            plt.grid(1)\n",
    "            plt.xlabel('Iterations')\n",
    "            plt.ylabel('Cost')"
   ]
  },
  {
   "cell_type": "code",
   "execution_count": 5,
   "metadata": {
    "collapsed": false
   },
   "outputs": [
    {
     "name": "stdout",
     "output_type": "stream",
     "text": [
      "Epoch 5/100 ===========> cost: [ 0.01373461]\n",
      "Epoch 10/100 ===========> cost: [ 0.01194403]\n",
      "Epoch 15/100 ===========> cost: [ 0.01155443]\n",
      "Epoch 20/100 ===========> cost: [ 0.01135767]\n",
      "Epoch 25/100 ===========> cost: [ 0.01119879]\n",
      "Epoch 30/100 ===========> cost: [ 0.01105069]\n",
      "Epoch 35/100 ===========> cost: [ 0.01090793]\n",
      "Epoch 40/100 ===========> cost: [ 0.0107692]\n",
      "Epoch 45/100 ===========> cost: [ 0.01063408]\n",
      "Epoch 50/100 ===========> cost: [ 0.01050229]\n",
      "Epoch 55/100 ===========> cost: [ 0.01037361]\n",
      "Epoch 60/100 ===========> cost: [ 0.01024783]\n",
      "Epoch 65/100 ===========> cost: [ 0.01012476]\n",
      "Epoch 70/100 ===========> cost: [ 0.01000422]\n",
      "Epoch 75/100 ===========> cost: [ 0.00988604]\n",
      "Epoch 80/100 ===========> cost: [ 0.00977006]\n",
      "Epoch 85/100 ===========> cost: [ 0.00965613]\n",
      "Epoch 90/100 ===========> cost: [ 0.00954409]\n",
      "Epoch 95/100 ===========> cost: [ 0.00943382]\n",
      "Epoch 100/100 ===========> cost: [ 0.00932517]\n"
     ]
    },
    {
     "data": {
      "image/png": "[encoded data removed]",
      "text/plain": [
       "<matplotlib.figure.Figure at 0x1b8e15593c8>"
      ]
     },
     "metadata": {},
     "output_type": "display_data"
    }
   ],
   "source": [
    "nn = NeuralNetwork()\n",
    "opt = Optimizer(nn)\n",
    "opt.backprop(X, y, disp=True)"
   ]
  },
  {
   "cell_type": "code",
   "execution_count": 6,
   "metadata": {
    "collapsed": false
   },
   "outputs": [
    {
     "name": "stdout",
     "output_type": "stream",
     "text": [
      "Optimization terminated successfully.\n",
      "         Current function value: 0.001226\n",
      "         Iterations: 39\n",
      "         Function evaluations: 44\n",
      "         Gradient evaluations: 44\n"
     ]
    },
    {
     "data": {
      "image/png": "[encoded data removed]",
      "text/plain": [
       "<matplotlib.figure.Figure at 0x1b8df1aaa58>"
      ]
     },
     "metadata": {},
     "output_type": "display_data"
    }
   ],
   "source": [
    "opt.BFGS(X, y, disp=True)"
   ]
  }
 ],
 "metadata": {
  "anaconda-cloud": {},
  "kernelspec": {
   "display_name": "Python [conda root]",
   "language": "python",
   "name": "conda-root-py"
  },
  "language_info": {
   "codemirror_mode": {
    "name": "ipython",
    "version": 3
   },
   "file_extension": ".py",
   "mimetype": "text/x-python",
   "name": "python",
   "nbconvert_exporter": "python",
   "pygments_lexer": "ipython3",
   "version": "3.5.2"
  }
 },
 "nbformat": 4,
 "nbformat_minor": 1
}
